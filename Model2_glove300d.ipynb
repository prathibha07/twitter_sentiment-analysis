{
  "cells": [
    {
      "cell_type": "markdown",
      "metadata": {
        "id": "Vrz9rx-lJjkJ"
      },
      "source": [
        "### Training on whole trainset. No validation"
      ]
    },
    {
      "cell_type": "code",
      "execution_count": null,
      "metadata": {
        "id": "kulf1dgBh0os"
      },
      "outputs": [],
      "source": [
        "import pandas as pd\n",
        "import numpy as np\n",
        "import re\n",
        "import nltk\n",
        "from nltk.corpus import stopwords\n",
        "import matplotlib.pyplot as plt\n",
        "from keras.preprocessing.text import one_hot\n",
        "from keras.preprocessing.sequence import pad_sequences\n",
        "from keras.models import Sequential\n",
        "from keras.layers.core import Activation, Dropout, Dense\n",
        "from keras.layers import Flatten\n",
        "from keras.layers import GlobalMaxPooling1D\n",
        "from keras.layers.embeddings import Embedding\n",
        "from sklearn.model_selection import train_test_split\n",
        "from keras.preprocessing.text import Tokenizer\n",
        "from tensorflow.keras.layers import LSTM\n",
        "from tensorflow.keras.layers import Conv1D,GlobalMaxPooling1D,Dense"
      ]
    },
    {
      "cell_type": "code",
      "source": [
        "local_file = \"/content/drive/MyDrive/Winter_22/Adv_ML/mini_project_2/twitter_sentiments_data.csv/twitter_sentiments_data.csv\"\n",
        "#local_file=\"twitter_sentiments_data.csv\"\n",
        "\n",
        "df = pd.read_csv(local_file)\n",
        "df = pd.DataFrame(df, columns=['target', 'tweet'])\n",
        "df.head()"
      ],
      "metadata": {
        "colab": {
          "base_uri": "https://localhost:8080/",
          "height": 206
        },
        "id": "zq7fP12jA-Zd",
        "outputId": "f1fe9c3e-0679-4759-f551-70bdb328f29c"
      },
      "execution_count": null,
      "outputs": [
        {
          "output_type": "execute_result",
          "data": {
            "text/plain": [
              "   target                                              tweet\n",
              "0       0  is upset that he can't update his Facebook by ...\n",
              "1       0  @Kenichan I dived many times for the ball. Man...\n",
              "2       0  @nationwideclass no, it's not behaving at all....\n",
              "3       0                      @Kwesidei not the whole crew \n",
              "4       0                                        Need a hug "
            ],
            "text/html": [
              "\n",
              "  <div id=\"df-62f43a35-2e04-4c33-8407-e58c2e6bed25\">\n",
              "    <div class=\"colab-df-container\">\n",
              "      <div>\n",
              "<style scoped>\n",
              "    .dataframe tbody tr th:only-of-type {\n",
              "        vertical-align: middle;\n",
              "    }\n",
              "\n",
              "    .dataframe tbody tr th {\n",
              "        vertical-align: top;\n",
              "    }\n",
              "\n",
              "    .dataframe thead th {\n",
              "        text-align: right;\n",
              "    }\n",
              "</style>\n",
              "<table border=\"1\" class=\"dataframe\">\n",
              "  <thead>\n",
              "    <tr style=\"text-align: right;\">\n",
              "      <th></th>\n",
              "      <th>target</th>\n",
              "      <th>tweet</th>\n",
              "    </tr>\n",
              "  </thead>\n",
              "  <tbody>\n",
              "    <tr>\n",
              "      <th>0</th>\n",
              "      <td>0</td>\n",
              "      <td>is upset that he can't update his Facebook by ...</td>\n",
              "    </tr>\n",
              "    <tr>\n",
              "      <th>1</th>\n",
              "      <td>0</td>\n",
              "      <td>@Kenichan I dived many times for the ball. Man...</td>\n",
              "    </tr>\n",
              "    <tr>\n",
              "      <th>2</th>\n",
              "      <td>0</td>\n",
              "      <td>@nationwideclass no, it's not behaving at all....</td>\n",
              "    </tr>\n",
              "    <tr>\n",
              "      <th>3</th>\n",
              "      <td>0</td>\n",
              "      <td>@Kwesidei not the whole crew</td>\n",
              "    </tr>\n",
              "    <tr>\n",
              "      <th>4</th>\n",
              "      <td>0</td>\n",
              "      <td>Need a hug</td>\n",
              "    </tr>\n",
              "  </tbody>\n",
              "</table>\n",
              "</div>\n",
              "      <button class=\"colab-df-convert\" onclick=\"convertToInteractive('df-62f43a35-2e04-4c33-8407-e58c2e6bed25')\"\n",
              "              title=\"Convert this dataframe to an interactive table.\"\n",
              "              style=\"display:none;\">\n",
              "        \n",
              "  <svg xmlns=\"http://www.w3.org/2000/svg\" height=\"24px\"viewBox=\"0 0 24 24\"\n",
              "       width=\"24px\">\n",
              "    <path d=\"M0 0h24v24H0V0z\" fill=\"none\"/>\n",
              "    <path d=\"M18.56 5.44l.94 2.06.94-2.06 2.06-.94-2.06-.94-.94-2.06-.94 2.06-2.06.94zm-11 1L8.5 8.5l.94-2.06 2.06-.94-2.06-.94L8.5 2.5l-.94 2.06-2.06.94zm10 10l.94 2.06.94-2.06 2.06-.94-2.06-.94-.94-2.06-.94 2.06-2.06.94z\"/><path d=\"M17.41 7.96l-1.37-1.37c-.4-.4-.92-.59-1.43-.59-.52 0-1.04.2-1.43.59L10.3 9.45l-7.72 7.72c-.78.78-.78 2.05 0 2.83L4 21.41c.39.39.9.59 1.41.59.51 0 1.02-.2 1.41-.59l7.78-7.78 2.81-2.81c.8-.78.8-2.07 0-2.86zM5.41 20L4 18.59l7.72-7.72 1.47 1.35L5.41 20z\"/>\n",
              "  </svg>\n",
              "      </button>\n",
              "      \n",
              "  <style>\n",
              "    .colab-df-container {\n",
              "      display:flex;\n",
              "      flex-wrap:wrap;\n",
              "      gap: 12px;\n",
              "    }\n",
              "\n",
              "    .colab-df-convert {\n",
              "      background-color: #E8F0FE;\n",
              "      border: none;\n",
              "      border-radius: 50%;\n",
              "      cursor: pointer;\n",
              "      display: none;\n",
              "      fill: #1967D2;\n",
              "      height: 32px;\n",
              "      padding: 0 0 0 0;\n",
              "      width: 32px;\n",
              "    }\n",
              "\n",
              "    .colab-df-convert:hover {\n",
              "      background-color: #E2EBFA;\n",
              "      box-shadow: 0px 1px 2px rgba(60, 64, 67, 0.3), 0px 1px 3px 1px rgba(60, 64, 67, 0.15);\n",
              "      fill: #174EA6;\n",
              "    }\n",
              "\n",
              "    [theme=dark] .colab-df-convert {\n",
              "      background-color: #3B4455;\n",
              "      fill: #D2E3FC;\n",
              "    }\n",
              "\n",
              "    [theme=dark] .colab-df-convert:hover {\n",
              "      background-color: #434B5C;\n",
              "      box-shadow: 0px 1px 3px 1px rgba(0, 0, 0, 0.15);\n",
              "      filter: drop-shadow(0px 1px 2px rgba(0, 0, 0, 0.3));\n",
              "      fill: #FFFFFF;\n",
              "    }\n",
              "  </style>\n",
              "\n",
              "      <script>\n",
              "        const buttonEl =\n",
              "          document.querySelector('#df-62f43a35-2e04-4c33-8407-e58c2e6bed25 button.colab-df-convert');\n",
              "        buttonEl.style.display =\n",
              "          google.colab.kernel.accessAllowed ? 'block' : 'none';\n",
              "\n",
              "        async function convertToInteractive(key) {\n",
              "          const element = document.querySelector('#df-62f43a35-2e04-4c33-8407-e58c2e6bed25');\n",
              "          const dataTable =\n",
              "            await google.colab.kernel.invokeFunction('convertToInteractive',\n",
              "                                                     [key], {});\n",
              "          if (!dataTable) return;\n",
              "\n",
              "          const docLinkHtml = 'Like what you see? Visit the ' +\n",
              "            '<a target=\"_blank\" href=https://colab.research.google.com/notebooks/data_table.ipynb>data table notebook</a>'\n",
              "            + ' to learn more about interactive tables.';\n",
              "          element.innerHTML = '';\n",
              "          dataTable['output_type'] = 'display_data';\n",
              "          await google.colab.output.renderOutput(dataTable, element);\n",
              "          const docLink = document.createElement('div');\n",
              "          docLink.innerHTML = docLinkHtml;\n",
              "          element.appendChild(docLink);\n",
              "        }\n",
              "      </script>\n",
              "    </div>\n",
              "  </div>\n",
              "  "
            ]
          },
          "metadata": {},
          "execution_count": 5
        }
      ]
    },
    {
      "cell_type": "code",
      "source": [
        "eval_file = \"/content/drive/MyDrive/Winter_22/Adv_ML/mini_project_2/twitter_sentiments_evaluation.csv/twitter_sentiments_evaluation.csv\"\n",
        "#eval_file=\"twitter_sentiments_evaluation.csv\"\n",
        "\n",
        "df_eval_og = pd.read_csv(eval_file)\n",
        "eval_tweet_index = df_eval_og['tweet_index'].tolist()\n",
        "df_eval = pd.DataFrame(df_eval_og, columns=['target', 'tweet'])\n",
        "df_eval.head()"
      ],
      "metadata": {
        "colab": {
          "base_uri": "https://localhost:8080/",
          "height": 206
        },
        "id": "ZvrSzKaHBdyR",
        "outputId": "b72acd97-4c7e-4c57-f62d-e8f08e54cd5e"
      },
      "execution_count": null,
      "outputs": [
        {
          "output_type": "execute_result",
          "data": {
            "text/plain": [
              "   target                                              tweet\n",
              "0     NaN  @switchfoot http://twitpic.com/2y1zl - Awww, t...\n",
              "1     NaN    my whole body feels itchy and like its on fire \n",
              "2     NaN   Doesnt want to leave  i should just move here...\n",
              "3     NaN  May máº¯n sáº½ Ä‘áº¿n bÃªn em mÃ  khÃ´ng cÃ³ anh \n",
              "4     NaN  @LOLTrish hey  long time no see! Yes.. Rains a..."
            ],
            "text/html": [
              "\n",
              "  <div id=\"df-b805e0cf-c74e-4444-8ea7-31b63b294252\">\n",
              "    <div class=\"colab-df-container\">\n",
              "      <div>\n",
              "<style scoped>\n",
              "    .dataframe tbody tr th:only-of-type {\n",
              "        vertical-align: middle;\n",
              "    }\n",
              "\n",
              "    .dataframe tbody tr th {\n",
              "        vertical-align: top;\n",
              "    }\n",
              "\n",
              "    .dataframe thead th {\n",
              "        text-align: right;\n",
              "    }\n",
              "</style>\n",
              "<table border=\"1\" class=\"dataframe\">\n",
              "  <thead>\n",
              "    <tr style=\"text-align: right;\">\n",
              "      <th></th>\n",
              "      <th>target</th>\n",
              "      <th>tweet</th>\n",
              "    </tr>\n",
              "  </thead>\n",
              "  <tbody>\n",
              "    <tr>\n",
              "      <th>0</th>\n",
              "      <td>NaN</td>\n",
              "      <td>@switchfoot http://twitpic.com/2y1zl - Awww, t...</td>\n",
              "    </tr>\n",
              "    <tr>\n",
              "      <th>1</th>\n",
              "      <td>NaN</td>\n",
              "      <td>my whole body feels itchy and like its on fire</td>\n",
              "    </tr>\n",
              "    <tr>\n",
              "      <th>2</th>\n",
              "      <td>NaN</td>\n",
              "      <td>Doesnt want to leave  i should just move here...</td>\n",
              "    </tr>\n",
              "    <tr>\n",
              "      <th>3</th>\n",
              "      <td>NaN</td>\n",
              "      <td>May máº¯n sáº½ Ä‘áº¿n bÃªn em mÃ  khÃ´ng cÃ³ anh</td>\n",
              "    </tr>\n",
              "    <tr>\n",
              "      <th>4</th>\n",
              "      <td>NaN</td>\n",
              "      <td>@LOLTrish hey  long time no see! Yes.. Rains a...</td>\n",
              "    </tr>\n",
              "  </tbody>\n",
              "</table>\n",
              "</div>\n",
              "      <button class=\"colab-df-convert\" onclick=\"convertToInteractive('df-b805e0cf-c74e-4444-8ea7-31b63b294252')\"\n",
              "              title=\"Convert this dataframe to an interactive table.\"\n",
              "              style=\"display:none;\">\n",
              "        \n",
              "  <svg xmlns=\"http://www.w3.org/2000/svg\" height=\"24px\"viewBox=\"0 0 24 24\"\n",
              "       width=\"24px\">\n",
              "    <path d=\"M0 0h24v24H0V0z\" fill=\"none\"/>\n",
              "    <path d=\"M18.56 5.44l.94 2.06.94-2.06 2.06-.94-2.06-.94-.94-2.06-.94 2.06-2.06.94zm-11 1L8.5 8.5l.94-2.06 2.06-.94-2.06-.94L8.5 2.5l-.94 2.06-2.06.94zm10 10l.94 2.06.94-2.06 2.06-.94-2.06-.94-.94-2.06-.94 2.06-2.06.94z\"/><path d=\"M17.41 7.96l-1.37-1.37c-.4-.4-.92-.59-1.43-.59-.52 0-1.04.2-1.43.59L10.3 9.45l-7.72 7.72c-.78.78-.78 2.05 0 2.83L4 21.41c.39.39.9.59 1.41.59.51 0 1.02-.2 1.41-.59l7.78-7.78 2.81-2.81c.8-.78.8-2.07 0-2.86zM5.41 20L4 18.59l7.72-7.72 1.47 1.35L5.41 20z\"/>\n",
              "  </svg>\n",
              "      </button>\n",
              "      \n",
              "  <style>\n",
              "    .colab-df-container {\n",
              "      display:flex;\n",
              "      flex-wrap:wrap;\n",
              "      gap: 12px;\n",
              "    }\n",
              "\n",
              "    .colab-df-convert {\n",
              "      background-color: #E8F0FE;\n",
              "      border: none;\n",
              "      border-radius: 50%;\n",
              "      cursor: pointer;\n",
              "      display: none;\n",
              "      fill: #1967D2;\n",
              "      height: 32px;\n",
              "      padding: 0 0 0 0;\n",
              "      width: 32px;\n",
              "    }\n",
              "\n",
              "    .colab-df-convert:hover {\n",
              "      background-color: #E2EBFA;\n",
              "      box-shadow: 0px 1px 2px rgba(60, 64, 67, 0.3), 0px 1px 3px 1px rgba(60, 64, 67, 0.15);\n",
              "      fill: #174EA6;\n",
              "    }\n",
              "\n",
              "    [theme=dark] .colab-df-convert {\n",
              "      background-color: #3B4455;\n",
              "      fill: #D2E3FC;\n",
              "    }\n",
              "\n",
              "    [theme=dark] .colab-df-convert:hover {\n",
              "      background-color: #434B5C;\n",
              "      box-shadow: 0px 1px 3px 1px rgba(0, 0, 0, 0.15);\n",
              "      filter: drop-shadow(0px 1px 2px rgba(0, 0, 0, 0.3));\n",
              "      fill: #FFFFFF;\n",
              "    }\n",
              "  </style>\n",
              "\n",
              "      <script>\n",
              "        const buttonEl =\n",
              "          document.querySelector('#df-b805e0cf-c74e-4444-8ea7-31b63b294252 button.colab-df-convert');\n",
              "        buttonEl.style.display =\n",
              "          google.colab.kernel.accessAllowed ? 'block' : 'none';\n",
              "\n",
              "        async function convertToInteractive(key) {\n",
              "          const element = document.querySelector('#df-b805e0cf-c74e-4444-8ea7-31b63b294252');\n",
              "          const dataTable =\n",
              "            await google.colab.kernel.invokeFunction('convertToInteractive',\n",
              "                                                     [key], {});\n",
              "          if (!dataTable) return;\n",
              "\n",
              "          const docLinkHtml = 'Like what you see? Visit the ' +\n",
              "            '<a target=\"_blank\" href=https://colab.research.google.com/notebooks/data_table.ipynb>data table notebook</a>'\n",
              "            + ' to learn more about interactive tables.';\n",
              "          element.innerHTML = '';\n",
              "          dataTable['output_type'] = 'display_data';\n",
              "          await google.colab.output.renderOutput(dataTable, element);\n",
              "          const docLink = document.createElement('div');\n",
              "          docLink.innerHTML = docLinkHtml;\n",
              "          element.appendChild(docLink);\n",
              "        }\n",
              "      </script>\n",
              "    </div>\n",
              "  </div>\n",
              "  "
            ]
          },
          "metadata": {},
          "execution_count": 6
        }
      ]
    },
    {
      "cell_type": "code",
      "execution_count": null,
      "metadata": {
        "id": "3eZQ63rZiAbn"
      },
      "outputs": [],
      "source": [
        "TAG_RE = re.compile(r'<[^>]+>')\n",
        "def remove_tags(text):\n",
        "    return TAG_RE.sub('', text)\n",
        "\n",
        "def preprocess_text(sen):\n",
        "    sentence = remove_tags(sen)\n",
        "    sentence = re.sub('[^a-zA-Z]', ' ', sentence)\n",
        "    sentence = re.sub(r\"\\s+[a-zA-Z]\\s+\", ' ', sentence)\n",
        "    sentence = re.sub(r'\\s+', ' ', sentence)\n",
        "    return sentence"
      ]
    },
    {
      "cell_type": "code",
      "execution_count": null,
      "metadata": {
        "id": "S4qEcWipiQlR"
      },
      "outputs": [],
      "source": [
        "X = []\n",
        "sentences = list(df['tweet'])\n",
        "for sen in sentences:\n",
        "    X.append(preprocess_text(sen))\n",
        "y=np.array(df['target'])\n",
        "\n",
        "X_eval = []\n",
        "sentences_eval = list(df_eval['tweet'])\n",
        "for sen in sentences_eval:\n",
        "    X_eval.append(preprocess_text(sen))\n",
        "y_eval=np.array(df_eval['target'])"
      ]
    },
    {
      "cell_type": "code",
      "execution_count": null,
      "metadata": {
        "id": "rhcw4R6kiSJJ"
      },
      "outputs": [],
      "source": [
        "X_train, X_test, y_train, y_test = train_test_split(X, y, test_size=0.20, random_state=42)\n",
        "\n",
        "tokenizer = Tokenizer(num_words=5000)\n",
        "tokenizer.fit_on_texts(X_train)\n",
        "X_train = tokenizer.texts_to_sequences(X_train)\n",
        "X_test = tokenizer.texts_to_sequences(X_test)\n",
        "X_eval = tokenizer.texts_to_sequences(X_eval)"
      ]
    },
    {
      "cell_type": "code",
      "execution_count": null,
      "metadata": {
        "id": "atks7nW1imGQ"
      },
      "outputs": [],
      "source": [
        "vocab_size = len(tokenizer.word_index) + 1\n",
        "maxlen = 124\n",
        "X_train = pad_sequences(X_train, padding='post', maxlen=maxlen)\n",
        "X_test = pad_sequences(X_test, padding='post', maxlen=maxlen)\n",
        "X_eval = pad_sequences(X_eval, padding='post', maxlen=maxlen)"
      ]
    },
    {
      "cell_type": "code",
      "execution_count": null,
      "metadata": {
        "colab": {
          "base_uri": "https://localhost:8080/"
        },
        "id": "BOJi7o6jpwAX",
        "outputId": "62126f04-e51a-46b0-b86d-2db265fb1128"
      },
      "outputs": [
        {
          "name": "stdout",
          "output_type": "stream",
          "text": [
            "--2021-12-17 11:08:38--  http://nlp.stanford.edu/data/glove.6B.zip\n",
            "Resolving nlp.stanford.edu (nlp.stanford.edu)... 171.64.67.140\n",
            "Connecting to nlp.stanford.edu (nlp.stanford.edu)|171.64.67.140|:80... connected.\n",
            "HTTP request sent, awaiting response... 302 Found\n",
            "Location: https://nlp.stanford.edu/data/glove.6B.zip [following]\n",
            "--2021-12-17 11:08:38--  https://nlp.stanford.edu/data/glove.6B.zip\n",
            "Connecting to nlp.stanford.edu (nlp.stanford.edu)|171.64.67.140|:443... connected.\n",
            "HTTP request sent, awaiting response... 301 Moved Permanently\n",
            "Location: http://downloads.cs.stanford.edu/nlp/data/glove.6B.zip [following]\n",
            "--2021-12-17 11:08:38--  http://downloads.cs.stanford.edu/nlp/data/glove.6B.zip\n",
            "Resolving downloads.cs.stanford.edu (downloads.cs.stanford.edu)... 171.64.64.22\n",
            "Connecting to downloads.cs.stanford.edu (downloads.cs.stanford.edu)|171.64.64.22|:80... connected.\n",
            "HTTP request sent, awaiting response... 200 OK\n",
            "Length: 862182613 (822M) [application/zip]\n",
            "Saving to: ‘glove.6B.zip’\n",
            "\n",
            "glove.6B.zip        100%[===================>] 822.24M  5.11MB/s    in 2m 40s  \n",
            "\n",
            "2021-12-17 11:11:19 (5.14 MB/s) - ‘glove.6B.zip’ saved [862182613/862182613]\n",
            "\n",
            "Archive:  glove.6B.zip\n",
            "  inflating: glove.6B.50d.txt        \n",
            "  inflating: glove.6B.100d.txt       \n",
            "  inflating: glove.6B.200d.txt       \n",
            "  inflating: glove.6B.300d.txt       \n"
          ]
        }
      ],
      "source": [
        "!wget http://nlp.stanford.edu/data/glove.6B.zip\n",
        "!unzip glove*.zip"
      ]
    },
    {
      "cell_type": "code",
      "execution_count": null,
      "metadata": {
        "id": "eMOJl99eiqcY"
      },
      "outputs": [],
      "source": [
        "embeddings_dictionary = dict()\n",
        "glove_file = open('glove.6B.200d.txt', encoding=\"utf8\")\n",
        "\n",
        "for line in glove_file:\n",
        "    records = line.split()\n",
        "    word = records[0]\n",
        "    vector_dimensions = np.asarray(records[1:], dtype='float32')\n",
        "    embeddings_dictionary[word] = vector_dimensions\n",
        "glove_file.close()"
      ]
    },
    {
      "cell_type": "code",
      "execution_count": null,
      "metadata": {
        "id": "-BHK46qEi3YW"
      },
      "outputs": [],
      "source": [
        "embedding_matrix = np.zeros((vocab_size, 200))\n",
        "for word, index in tokenizer.word_index.items():\n",
        "    embedding_vector = embeddings_dictionary.get(word)\n",
        "    if embedding_vector is not None:\n",
        "        embedding_matrix[index] = embedding_vector"
      ]
    },
    {
      "cell_type": "code",
      "execution_count": null,
      "metadata": {
        "colab": {
          "base_uri": "https://localhost:8080/"
        },
        "id": "1pVWvuKRxk-a",
        "outputId": "0b1b0744-c6c3-4740-a393-65558ab5f4a6"
      },
      "outputs": [
        {
          "data": {
            "text/plain": [
              "(446879, 200)"
            ]
          },
          "execution_count": 29,
          "metadata": {},
          "output_type": "execute_result"
        }
      ],
      "source": [
        "embedding_matrix.shape"
      ]
    },
    {
      "cell_type": "code",
      "execution_count": null,
      "metadata": {
        "id": "4tg3VtE3i8g-"
      },
      "outputs": [],
      "source": [
        "# model = Sequential()\n",
        "# embedding_layer = Embedding(vocab_size, 300, weights=[embedding_matrix], input_length=maxlen , trainable=False)\n",
        "# model.add(embedding_layer)\n",
        "# model.add(Conv1D(256, 5, activation='relu'))\n",
        "# model.add(GlobalMaxPooling1D())\n",
        "# model.add(Dropout(rate=0.5)) # Avoid overfitting\n",
        "# model.add(Dense(1, activation='sigmoid'))\n",
        "# model.compile(optimizer='adam', loss='binary_crossentropy', metrics=['acc'])"
      ]
    },
    {
      "cell_type": "code",
      "execution_count": null,
      "metadata": {
        "id": "qbO4a5wMYbTg"
      },
      "outputs": [],
      "source": [
        "# model.summary()"
      ]
    },
    {
      "cell_type": "code",
      "execution_count": null,
      "metadata": {
        "id": "G8sjwFLeYOWq"
      },
      "outputs": [],
      "source": [
        "import keras\n",
        "from tensorflow.keras import layers\n",
        "embedding_layer = Embedding(vocab_size, 200, weights=[embedding_matrix], input_length=maxlen , trainable=False)\n",
        "\n",
        "int_sequences_input = keras.Input(shape=(None,), dtype=\"int64\")\n",
        "embedded_sequences = embedding_layer(int_sequences_input)\n",
        "x = layers.SpatialDropout1D(0.4)(embedded_sequences)\n",
        "\n",
        "x = layers.Conv1D(128, 5, activation=\"relu\")(x)\n",
        "x = layers.Conv1D(256, 5, activation=\"relu\")(x)\n",
        "x = layers.MaxPooling1D(5)(x)\n",
        "x = layers.Conv1D(128, 5, activation=\"relu\")(x)\n",
        "x = layers.GlobalMaxPooling1D()(x)\n",
        "x = layers.Dense(128, activation=\"relu\")(x)\n",
        "x = layers.Dropout(0.3)(x)\n",
        "x = layers.Dense(128, activation=\"relu\")(x)\n",
        "x = layers.Dropout(0.4)(x)\n",
        "preds = layers.Dense(1, activation=\"sigmoid\")(x)\n",
        "model2 = keras.Model(int_sequences_input, preds)\n",
        "\n",
        "model2.compile(optimizer='rmsprop', loss='binary_crossentropy', metrics=['acc'])"
      ]
    },
    {
      "cell_type": "code",
      "execution_count": null,
      "metadata": {
        "id": "wGoUuiERZTbo"
      },
      "outputs": [],
      "source": [
        "# import keras\n",
        "# from tensorflow.keras import layers\n",
        "# embedding_layer = Embedding(vocab_size, 200, weights=[embedding_matrix], input_length=maxlen , trainable=False)\n",
        "\n",
        "# int_sequences_input = keras.Input(shape=(None,), dtype=\"int64\")\n",
        "# embedded_sequences = embedding_layer(int_sequences_input)\n",
        "# x = layers.LSTM(256, return_sequences=True)(embedded_sequences)\n",
        "# x = layers.Dense(256, activation=\"relu\")(x)\n",
        "# x = layers.Dropout(0.1)(x)\n",
        "# x = layers.Dense(128, activation=\"relu\")(x)\n",
        "# x = layers.Dropout(0.3)(x)\n",
        "# preds = layers.Dense(1, activation=\"sigmoid\")(x)\n",
        "# model2 = keras.Model(int_sequences_input, preds)\n",
        "\n",
        "# model2.compile(optimizer='rmsprop', loss='binary_crossentropy', metrics=['acc'])"
      ]
    },
    {
      "cell_type": "code",
      "execution_count": null,
      "metadata": {
        "colab": {
          "base_uri": "https://localhost:8080/"
        },
        "id": "qgYlrIJSZG2u",
        "outputId": "939fca7b-3b9c-4f21-e695-9e02831578fb"
      },
      "outputs": [
        {
          "name": "stdout",
          "output_type": "stream",
          "text": [
            "Model: \"model_10\"\n",
            "_________________________________________________________________\n",
            " Layer (type)                Output Shape              Param #   \n",
            "=================================================================\n",
            " input_17 (InputLayer)       [(None, None)]            0         \n",
            "                                                                 \n",
            " embedding_16 (Embedding)    (None, None, 200)         89375800  \n",
            "                                                                 \n",
            " spatial_dropout1d_1 (Spatia  (None, None, 200)        0         \n",
            " lDropout1D)                                                     \n",
            "                                                                 \n",
            " conv1d_25 (Conv1D)          (None, None, 128)         128128    \n",
            "                                                                 \n",
            " conv1d_26 (Conv1D)          (None, None, 256)         164096    \n",
            "                                                                 \n",
            " max_pooling1d_8 (MaxPooling  (None, None, 256)        0         \n",
            " 1D)                                                             \n",
            "                                                                 \n",
            " conv1d_27 (Conv1D)          (None, None, 128)         163968    \n",
            "                                                                 \n",
            " global_max_pooling1d_8 (Glo  (None, 128)              0         \n",
            " balMaxPooling1D)                                                \n",
            "                                                                 \n",
            " dense_28 (Dense)            (None, 128)               16512     \n",
            "                                                                 \n",
            " dropout_17 (Dropout)        (None, 128)               0         \n",
            "                                                                 \n",
            " dense_29 (Dense)            (None, 128)               16512     \n",
            "                                                                 \n",
            " dropout_18 (Dropout)        (None, 128)               0         \n",
            "                                                                 \n",
            " dense_30 (Dense)            (None, 1)                 129       \n",
            "                                                                 \n",
            "=================================================================\n",
            "Total params: 89,865,145\n",
            "Trainable params: 489,345\n",
            "Non-trainable params: 89,375,800\n",
            "_________________________________________________________________\n"
          ]
        }
      ],
      "source": [
        "model2.summary()"
      ]
    },
    {
      "cell_type": "code",
      "execution_count": null,
      "metadata": {
        "colab": {
          "base_uri": "https://localhost:8080/"
        },
        "id": "yZkHSzlwjASY",
        "outputId": "9d06391b-f202-4380-9470-6b0bceb83156"
      },
      "outputs": [
        {
          "name": "stdout",
          "output_type": "stream",
          "text": [
            "Epoch 1/10\n",
            "16377/16377 [==============================] - 323s 20ms/step - loss: 0.5330 - acc: 0.7434 - val_loss: 0.4725 - val_acc: 0.7772\n",
            "Epoch 2/10\n",
            "16377/16377 [==============================] - 312s 19ms/step - loss: 0.5159 - acc: 0.7642 - val_loss: 0.5018 - val_acc: 0.7656\n",
            "Epoch 3/10\n",
            "16377/16377 [==============================] - 305s 19ms/step - loss: 0.5197 - acc: 0.7647 - val_loss: 0.4899 - val_acc: 0.7808\n",
            "Epoch 4/10\n",
            "16377/16377 [==============================] - 324s 20ms/step - loss: 0.5144 - acc: 0.7656 - val_loss: 0.4688 - val_acc: 0.7915\n",
            "Epoch 5/10\n",
            "16377/16377 [==============================] - 320s 20ms/step - loss: 0.5117 - acc: 0.7677 - val_loss: 0.5247 - val_acc: 0.7915\n",
            "Epoch 6/10\n",
            "16377/16377 [==============================] - 320s 20ms/step - loss: 0.5289 - acc: 0.7679 - val_loss: 0.4907 - val_acc: 0.7882\n",
            "Epoch 7/10\n",
            "16377/16377 [==============================] - 320s 20ms/step - loss: 0.5176 - acc: 0.7684 - val_loss: 0.4817 - val_acc: 0.7914\n",
            "Epoch 8/10\n",
            "16377/16377 [==============================] - 299s 18ms/step - loss: 0.5164 - acc: 0.7691 - val_loss: 0.4472 - val_acc: 0.7939\n",
            "Epoch 9/10\n",
            "16377/16377 [==============================] - 316s 19ms/step - loss: 0.5199 - acc: 0.7700 - val_loss: 0.5325 - val_acc: 0.7749\n",
            "Epoch 10/10\n",
            "16377/16377 [==============================] - 313s 19ms/step - loss: 0.5146 - acc: 0.7704 - val_loss: 0.4783 - val_acc: 0.7803\n"
          ]
        }
      ],
      "source": [
        "history = model2.fit(X_train, y_train, batch_size=64, epochs=10, verbose=1, validation_data=(X_test, y_test))"
      ]
    },
    {
      "cell_type": "code",
      "execution_count": null,
      "metadata": {
        "colab": {
          "base_uri": "https://localhost:8080/"
        },
        "id": "E-N9Oz-ajDKZ",
        "outputId": "40f16590-97e4-4900-cb30-80d905714a0a"
      },
      "outputs": [
        {
          "name": "stdout",
          "output_type": "stream",
          "text": [
            "8189/8189 [==============================] - 56s 7ms/step - loss: 0.4783 - acc: 0.7803\n"
          ]
        }
      ],
      "source": [
        "score = model2.evaluate(X_test, y_test, verbose=1)"
      ]
    },
    {
      "cell_type": "code",
      "execution_count": null,
      "metadata": {
        "id": "A1R4928s7Be6"
      },
      "outputs": [],
      "source": [
        "from sklearn.metrics import classification_report\n",
        "y_pred = model2.predict(X_test)"
      ]
    },
    {
      "cell_type": "code",
      "execution_count": null,
      "metadata": {
        "colab": {
          "base_uri": "https://localhost:8080/"
        },
        "id": "xR6XdqqW3GME",
        "outputId": "ba372904-d673-4bd5-c468-2649ee9fd077"
      },
      "outputs": [
        {
          "name": "stdout",
          "output_type": "stream",
          "text": [
            "Best threshold is : 0.6000000000000003\n",
            "              precision    recall  f1-score   support\n",
            "\n",
            "           0       0.80      0.80      0.80    130981\n",
            "           1       0.80      0.80      0.80    131041\n",
            "\n",
            "    accuracy                           0.80    262022\n",
            "   macro avg       0.80      0.80      0.80    262022\n",
            "weighted avg       0.80      0.80      0.80    262022\n",
            "\n"
          ]
        }
      ],
      "source": [
        "num_test_zeros = (y_test == 0).sum()\n",
        "num_pred_zeros = {}\n",
        "for thresh in np.arange(0.3, 1.0, 0.01):\n",
        "    y_pred_bool = (y_pred > thresh).astype(\"int32\")\n",
        "    num_pred_zeros[thresh] = (y_pred_bool == 0).sum()\n",
        "threshs = list(num_pred_zeros.keys())\n",
        "min_thresh_index = np.argmin(np.abs(list(num_pred_zeros.values()) - num_test_zeros))\n",
        "selected_thresh = threshs[min_thresh_index]\n",
        "print(\"Best threshold is :\", selected_thresh)\n",
        "\n",
        "y_pred_bool = (y_pred > selected_thresh).astype(\"int32\")\n",
        "print(classification_report(y_test, y_pred_bool))"
      ]
    },
    {
      "cell_type": "code",
      "execution_count": null,
      "metadata": {
        "colab": {
          "base_uri": "https://localhost:8080/",
          "height": 297
        },
        "id": "D4wshBsw85o4",
        "outputId": "b61db46b-7ec5-4fc0-d6d3-2accadb11b09"
      },
      "outputs": [
        {
          "data": {
            "text/plain": [
              "Text(33.0, 0.5, 'Truth')"
            ]
          },
          "execution_count": 57,
          "metadata": {},
          "output_type": "execute_result"
        },
        {
          "data": {
            "image/png": "[encoded data removed]",
            "text/plain": [
              "<Figure size 432x288 with 2 Axes>"
            ]
          },
          "metadata": {
            "needs_background": "light"
          },
          "output_type": "display_data"
        }
      ],
      "source": [
        "from sklearn.metrics import confusion_matrix, classification_report\n",
        "from matplotlib import pyplot as plt\n",
        "import seaborn as sn\n",
        "\n",
        "cm = confusion_matrix(y_test, y_pred_bool)\n",
        "sn.heatmap(cm, annot=True, fmt='d')\n",
        "plt.xlabel('Predicted')\n",
        "plt.ylabel('Truth')"
      ]
    },
    {
      "cell_type": "code",
      "execution_count": null,
      "metadata": {
        "id": "KfCvgaUP8TN6"
      },
      "outputs": [],
      "source": [
        "y_pred_eval = model2.predict(X_eval)\n",
        "y_pred_eval_bool = (y_pred_eval > selected_thresh).astype(\"int32\")\n",
        "eval_pred_list = list(np.squeeze(y_pred_eval_bool))"
      ]
    },
    {
      "cell_type": "code",
      "execution_count": null,
      "metadata": {
        "id": "PSe7EikTAep9"
      },
      "outputs": [],
      "source": [
        "import csv\n",
        "predfilename = 'eval_1_4.csv'\n",
        "with open(predfilename, 'w') as f:\n",
        "    writer = csv.writer(f)\n",
        "    writer.writerow([\"tweet_index\", \"target\"])\n",
        "    writer.writerows(zip(eval_tweet_index, eval_pred_list))"
      ]
    },
    {
      "cell_type": "code",
      "execution_count": null,
      "metadata": {
        "colab": {
          "base_uri": "https://localhost:8080/",
          "height": 17
        },
        "id": "p9WUCY6IIVAx",
        "outputId": "c375629e-cf12-410a-951b-2df6fdb28abe"
      },
      "outputs": [
        {
          "data": {
            "application/javascript": [
              "\n",
              "    async function download(id, filename, size) {\n",
              "      if (!google.colab.kernel.accessAllowed) {\n",
              "        return;\n",
              "      }\n",
              "      const div = document.createElement('div');\n",
              "      const label = document.createElement('label');\n",
              "      label.textContent = `Downloading \"${filename}\": `;\n",
              "      div.appendChild(label);\n",
              "      const progress = document.createElement('progress');\n",
              "      progress.max = size;\n",
              "      div.appendChild(progress);\n",
              "      document.body.appendChild(div);\n",
              "\n",
              "      const buffers = [];\n",
              "      let downloaded = 0;\n",
              "\n",
              "      const channel = await google.colab.kernel.comms.open(id);\n",
              "      // Send a message to notify the kernel that we're ready.\n",
              "      channel.send({})\n",
              "\n",
              "      for await (const message of channel.messages) {\n",
              "        // Send a message to notify the kernel that we're ready.\n",
              "        channel.send({})\n",
              "        if (message.buffers) {\n",
              "          for (const buffer of message.buffers) {\n",
              "            buffers.push(buffer);\n",
              "            downloaded += buffer.byteLength;\n",
              "            progress.value = downloaded;\n",
              "          }\n",
              "        }\n",
              "      }\n",
              "      const blob = new Blob(buffers, {type: 'application/binary'});\n",
              "      const a = document.createElement('a');\n",
              "      a.href = window.URL.createObjectURL(blob);\n",
              "      a.download = filename;\n",
              "      div.appendChild(a);\n",
              "      a.click();\n",
              "      div.remove();\n",
              "    }\n",
              "  "
            ],
            "text/plain": [
              "<IPython.core.display.Javascript object>"
            ]
          },
          "metadata": {},
          "output_type": "display_data"
        },
        {
          "data": {
            "application/javascript": [
              "download(\"download_99ecd926-02fb-4d47-83e3-5355310b7ea8\", \"eval_1_4.csv\", 4057696)"
            ],
            "text/plain": [
              "<IPython.core.display.Javascript object>"
            ]
          },
          "metadata": {},
          "output_type": "display_data"
        }
      ],
      "source": [
        "from google.colab import files\n",
        "files.download(predfilename) "
      ]
    },
    {
      "cell_type": "code",
      "execution_count": null,
      "metadata": {
        "colab": {
          "base_uri": "https://localhost:8080/",
          "height": 330
        },
        "id": "v7L8TzFjjLwt",
        "outputId": "fd22aadf-bcbb-4b58-fa19-52f300fb6366"
      },
      "outputs": [
        {
          "name": "stdout",
          "output_type": "stream",
          "text": [
            "Test Score: 0.47834208607673645\n",
            "Test Accuracy: 0.7803314328193665\n"
          ]
        },
        {
          "data": {
            "image/png": "[encoded data removed]",
            "text/plain": [
              "<Figure size 432x288 with 1 Axes>"
            ]
          },
          "metadata": {
            "needs_background": "light"
          },
          "output_type": "display_data"
        }
      ],
      "source": [
        "print(\"Test Score:\", score[0])\n",
        "print(\"Test Accuracy:\", score[1])\n",
        "\n",
        "plt.plot(history.history['loss'])\n",
        "# plt.plot(history.history['val_loss'])\n",
        "\n",
        "plt.title('model loss')\n",
        "plt.ylabel('loss')\n",
        "plt.xlabel('epoch')\n",
        "plt.legend(['train','test'], loc='upper left')\n",
        "plt.show()"
      ]
    },
    {
      "cell_type": "markdown",
      "metadata": {
        "id": "qLtBUVGlrwnR"
      },
      "source": [
        "## Training for 10 more epochs"
      ]
    },
    {
      "cell_type": "code",
      "execution_count": null,
      "metadata": {
        "colab": {
          "base_uri": "https://localhost:8080/"
        },
        "id": "2ngxzV92kGo4",
        "outputId": "fe8d2b00-1186-4d1a-a838-ce701a7067a4"
      },
      "outputs": [
        {
          "name": "stdout",
          "output_type": "stream",
          "text": [
            "Epoch 1/10\n",
            "8189/8189 [==============================] - 166s 20ms/step - loss: 0.3950 - acc: 0.8233\n",
            "Epoch 2/10\n",
            "8189/8189 [==============================] - 165s 20ms/step - loss: 0.3934 - acc: 0.8238\n",
            "Epoch 3/10\n",
            "8189/8189 [==============================] - 164s 20ms/step - loss: 0.3917 - acc: 0.8251\n",
            "Epoch 4/10\n",
            "8189/8189 [==============================] - 164s 20ms/step - loss: 0.3905 - acc: 0.8256\n",
            "Epoch 5/10\n",
            "8189/8189 [==============================] - 165s 20ms/step - loss: 0.3892 - acc: 0.8261\n",
            "Epoch 6/10\n",
            "8189/8189 [==============================] - 165s 20ms/step - loss: 0.3878 - acc: 0.8270\n",
            "Epoch 7/10\n",
            "8189/8189 [==============================] - 165s 20ms/step - loss: 0.3865 - acc: 0.8276\n",
            "Epoch 8/10\n",
            "8189/8189 [==============================] - 165s 20ms/step - loss: 0.3861 - acc: 0.8276\n",
            "Epoch 9/10\n",
            "8189/8189 [==============================] - 165s 20ms/step - loss: 0.3841 - acc: 0.8290\n",
            "Epoch 10/10\n",
            "8189/8189 [==============================] - 165s 20ms/step - loss: 0.3833 - acc: 0.8296\n"
          ]
        }
      ],
      "source": [
        "history_2 = model.fit(X_train, y_train, batch_size=128, epochs=10, verbose=1, validation_split=0.0)"
      ]
    },
    {
      "cell_type": "code",
      "execution_count": null,
      "metadata": {
        "colab": {
          "base_uri": "https://localhost:8080/"
        },
        "id": "Lt69SQ3kqiUO",
        "outputId": "b178b4d2-8fed-4db8-b16d-2e8b82554236"
      },
      "outputs": [
        {
          "name": "stdout",
          "output_type": "stream",
          "text": [
            "8189/8189 [==============================] - 53s 7ms/step - loss: 0.4317 - acc: 0.8076\n"
          ]
        }
      ],
      "source": [
        "score = model.evaluate(X_test, y_test, verbose=1)"
      ]
    },
    {
      "cell_type": "code",
      "execution_count": null,
      "metadata": {
        "id": "pnwpiWrXrY5o"
      },
      "outputs": [],
      "source": [
        "from sklearn.metrics import classification_report\n",
        "y_pred = model.predict(X_test)"
      ]
    },
    {
      "cell_type": "code",
      "execution_count": null,
      "metadata": {
        "colab": {
          "base_uri": "https://localhost:8080/"
        },
        "id": "3VMm02sOrY5q",
        "outputId": "1b6f5a20-8a1c-4c81-bf42-ac37c6627a99"
      },
      "outputs": [
        {
          "name": "stdout",
          "output_type": "stream",
          "text": [
            "Best threshold is : 0.5100000000000002\n",
            "              precision    recall  f1-score   support\n",
            "\n",
            "           0       0.81      0.81      0.81    130981\n",
            "           1       0.81      0.81      0.81    131041\n",
            "\n",
            "    accuracy                           0.81    262022\n",
            "   macro avg       0.81      0.81      0.81    262022\n",
            "weighted avg       0.81      0.81      0.81    262022\n",
            "\n"
          ]
        }
      ],
      "source": [
        "num_test_zeros = (y_test == 0).sum()\n",
        "num_pred_zeros = {}\n",
        "for thresh in np.arange(0.3, 1.0, 0.01):\n",
        "    y_pred_bool = (y_pred > thresh).astype(\"int32\")\n",
        "    num_pred_zeros[thresh] = (y_pred_bool == 0).sum()\n",
        "threshs = list(num_pred_zeros.keys())\n",
        "min_thresh_index = np.argmin(np.abs(list(num_pred_zeros.values()) - num_test_zeros))\n",
        "selected_thresh = threshs[min_thresh_index]\n",
        "print(\"Best threshold is :\", selected_thresh)\n",
        "\n",
        "y_pred_bool = (y_pred > selected_thresh).astype(\"int32\")\n",
        "print(classification_report(y_test, y_pred_bool))"
      ]
    },
    {
      "cell_type": "code",
      "execution_count": null,
      "metadata": {
        "colab": {
          "base_uri": "https://localhost:8080/",
          "height": 297
        },
        "id": "yrmd9A_jrY5s",
        "outputId": "95a75f87-8eda-47a3-e54a-a95a0134be69"
      },
      "outputs": [
        {
          "data": {
            "text/plain": [
              "Text(33.0, 0.5, 'Truth')"
            ]
          },
          "execution_count": 31,
          "metadata": {},
          "output_type": "execute_result"
        },
        {
          "data": {
            "image/png": "[encoded data removed]",
            "text/plain": [
              "<Figure size 432x288 with 2 Axes>"
            ]
          },
          "metadata": {
            "needs_background": "light"
          },
          "output_type": "display_data"
        }
      ],
      "source": [
        "from sklearn.metrics import confusion_matrix, classification_report\n",
        "from matplotlib import pyplot as plt\n",
        "import seaborn as sn\n",
        "\n",
        "cm = confusion_matrix(y_test, y_pred_bool)\n",
        "sn.heatmap(cm, annot=True, fmt='d')\n",
        "plt.xlabel('Predicted')\n",
        "plt.ylabel('Truth')"
      ]
    },
    {
      "cell_type": "code",
      "execution_count": null,
      "metadata": {
        "id": "LWblAh8OrY5t"
      },
      "outputs": [],
      "source": [
        "y_pred_eval = model.predict(X_eval)\n",
        "y_pred_eval_bool = (y_pred_eval > selected_thresh).astype(\"int32\")\n",
        "eval_pred_list = list(np.squeeze(y_pred_eval_bool))"
      ]
    },
    {
      "cell_type": "code",
      "execution_count": null,
      "metadata": {
        "id": "nZRG_9JQrY5u"
      },
      "outputs": [],
      "source": [
        "import csv\n",
        "with open('eval_1_3_v2.csv', 'w') as f:\n",
        "    writer = csv.writer(f)\n",
        "    writer.writerow([\"tweet_index\", \"target\"])\n",
        "    writer.writerows(zip(eval_tweet_index, eval_pred_list))"
      ]
    },
    {
      "cell_type": "code",
      "execution_count": null,
      "metadata": {
        "colab": {
          "base_uri": "https://localhost:8080/",
          "height": 330
        },
        "id": "e3gOoe4ErLPq",
        "outputId": "29b26e46-aff5-4644-85f7-58590b602334"
      },
      "outputs": [
        {
          "name": "stdout",
          "output_type": "stream",
          "text": [
            "Test Score: 0.4317189157009125\n",
            "Test Accuracy: 0.8076077699661255\n"
          ]
        },
        {
          "data": {
            "image/png": "[encoded data removed]",
            "text/plain": [
              "<Figure size 432x288 with 1 Axes>"
            ]
          },
          "metadata": {
            "needs_background": "light"
          },
          "output_type": "display_data"
        }
      ],
      "source": [
        "print(\"Test Score:\", score[0])\n",
        "print(\"Test Accuracy:\", score[1])\n",
        "\n",
        "plt.plot(history_2.history['loss'])\n",
        "\n",
        "plt.title('model loss')\n",
        "plt.ylabel('loss')\n",
        "plt.xlabel('epoch')\n",
        "plt.legend(['train','test'], loc='upper left')\n",
        "plt.show()"
      ]
    }
  ],
  "metadata": {
    "accelerator": "GPU",
    "colab": {
      "collapsed_sections": [],
      "name": "Model2_glove300d.ipynb",
      "provenance": []
    },
    "kernelspec": {
      "display_name": "Python 3",
      "language": "python",
      "name": "python3"
    },
    "language_info": {
      "codemirror_mode": {
        "name": "ipython",
        "version": 3
      },
      "file_extension": ".py",
      "mimetype": "text/x-python",
      "name": "python",
      "nbconvert_exporter": "python",
      "pygments_lexer": "ipython3",
      "version": "3.7.6"
    }
  },
  "nbformat": 4,
  "nbformat_minor": 0
}